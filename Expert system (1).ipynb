{
 "cells": [
  {
   "cell_type": "code",
   "execution_count": null,
   "id": "f62ad9e7-9ef3-45b6-af09-9abfac1719c4",
   "metadata": {},
   "outputs": [
    {
     "name": "stdout",
     "output_type": "stream",
     "text": [
      "\n",
      "welcome to the information managenet expert system.\n",
      "\n",
      "please rate the information managenet to the following critrrai(1-5):\n",
      "\n",
      "is information is secured?(1-5):\n"
     ]
    }
   ],
   "source": [
    "class InformationMager:\n",
    "    def __init__(self):\n",
    "        self.questions=[\n",
    "            \"is information is secured?\",\n",
    "            \"is information is valid\",\n",
    "            \"is information oragnized neatly\",\n",
    "            \"is information is easy to understand \",\n",
    "            \"is information is secure and protected\"\n",
    "        ]\n",
    "        self.threshold={\n",
    "            \"Excellent\":5,\n",
    "             \"Good\":4,\n",
    "             \"Fair\":30,\n",
    "             \"poor\":0\n",
    "     }\n",
    "    def evaluate(self):\n",
    "        score=0\n",
    "        for question in self.questions:\n",
    "            print(question+\"(1-5):\")\n",
    "            ans=int(input(\">\"))\n",
    "            while ans<1 or ans>5:\n",
    "               print (\"please enter valid rating between 1 and 5\")\n",
    "               ans=int(input(\">\"))\n",
    "            score+=ans\n",
    "        average_score=score/len(self.questions)\n",
    "        if average_score >= self.threshold[\"Excellent\"]:\n",
    "            print(\"Information management is excellent!\")\n",
    "        elif average_score >= self.threshold[\"Good\"]:\n",
    "            print(\"Information management is good.\")\n",
    "        elif average_score >= self.threshold[\"Fair\"]:\n",
    "            print(\"Information management is fair, with areas for improvement.\")\n",
    "        else:\n",
    "            print(\"Information management is poor. Action may be needed to address deficiencies.\")\n",
    "if __name__==\"__main__\":\n",
    "    manager=InformationMager()\n",
    "    print(\"\\nwelcome to the information managenet expert system.\\n\")\n",
    "    print(\"please rate the information managenet to the following critrrai(1-5):\\n\")\n",
    "    manager.evaluate()\n",
    "    \n",
    "\n",
    "\n",
    "        \n",
    "         \n",
    "            \n",
    "       "
   ]
  },
  {
   "cell_type": "code",
   "execution_count": 1,
   "id": "b5005662-45eb-4d43-aefe-0cfa077ca4d9",
   "metadata": {},
   "outputs": [
    {
     "name": "stdout",
     "output_type": "stream",
     "text": [
      "\n",
      "Welcome to the Hospital and Medical Facilities Expert System.\n",
      "\n",
      "Please rate the hospital and medical facilities on the following criteria (1-10):\n",
      "\n",
      "Is the hospital clean and well-maintained? (1-10): \n"
     ]
    },
    {
     "name": "stdin",
     "output_type": "stream",
     "text": [
      ">  6\n"
     ]
    },
    {
     "name": "stdout",
     "output_type": "stream",
     "text": [
      "Are the medical staff professional and courteous? (1-10): \n"
     ]
    },
    {
     "name": "stdin",
     "output_type": "stream",
     "text": [
      ">  7\n"
     ]
    },
    {
     "name": "stdout",
     "output_type": "stream",
     "text": [
      "Are the medical facilities well-equipped? (1-10): \n"
     ]
    },
    {
     "name": "stdin",
     "output_type": "stream",
     "text": [
      ">  7\n"
     ]
    },
    {
     "name": "stdout",
     "output_type": "stream",
     "text": [
      "Is the waiting time for appointments reasonable? (1-10): \n"
     ]
    },
    {
     "name": "stdin",
     "output_type": "stream",
     "text": [
      ">  7\n"
     ]
    },
    {
     "name": "stdout",
     "output_type": "stream",
     "text": [
      "Is the hospital responsive to patient needs and concerns? (1-10): \n"
     ]
    },
    {
     "name": "stdin",
     "output_type": "stream",
     "text": [
      ">  7\n"
     ]
    },
    {
     "name": "stdout",
     "output_type": "stream",
     "text": [
      "Is the hospital accessible and easily reachable? (1-10): \n"
     ]
    },
    {
     "name": "stdin",
     "output_type": "stream",
     "text": [
      ">  7\n"
     ]
    },
    {
     "name": "stdout",
     "output_type": "stream",
     "text": [
      "Are the medical treatments effective and satisfactory? (1-10): \n"
     ]
    },
    {
     "name": "stdin",
     "output_type": "stream",
     "text": [
      ">  7\n"
     ]
    },
    {
     "name": "stdout",
     "output_type": "stream",
     "text": [
      "Hospital and medical facilities are good.\n"
     ]
    }
   ],
   "source": [
    "class HospitalManager:\n",
    "    def __init__(self):\n",
    "        self.questions = [\n",
    "            \"Is the hospital clean and well-maintained?\",\n",
    "            \"Are the medical staff professional and courteous?\",\n",
    "            \"Are the medical facilities well-equipped?\",\n",
    "            \"Is the waiting time for appointments reasonable?\",\n",
    "            \"Is the hospital responsive to patient needs and concerns?\",\n",
    "            \"Is the hospital accessible and easily reachable?\",\n",
    "            \"Are the medical treatments effective and satisfactory?\"\n",
    "        ]\n",
    "        self.threshold = {\n",
    "            \"Excellent\": 8,\n",
    "            \"Good\": 6,\n",
    "            \"Fair\": 4,\n",
    "            \"Poor\": 0\n",
    "        }\n",
    "\n",
    "    def evaluate(self):\n",
    "        score = 0\n",
    "        for question in self.questions:\n",
    "            print(question + \" (1-10): \")\n",
    "            ans = int(input(\"> \"))\n",
    "            while ans < 1 or ans > 10:\n",
    "                print(\"Please enter a valid rating between 1 and 10.\")\n",
    "                ans = int(input(\"> \"))\n",
    "            score += ans\n",
    "        average_score = score / len(self.questions)\n",
    "\n",
    "        if average_score >= self.threshold[\"Excellent\"]:\n",
    "            print(\"Hospital and medical facilities are excellent!\")\n",
    "        elif average_score >= self.threshold[\"Good\"]:\n",
    "            print(\"Hospital and medical facilities are good.\")\n",
    "        elif average_score >= self.threshold[\"Fair\"]:\n",
    "            print(\"Hospital and medical facilities are fair, with areas for improvement.\")\n",
    "        else:\n",
    "            print(\"Hospital and medical facilities are poor. Action may be needed to address deficiencies.\")\n",
    "\n",
    "if __name__ == \"__main__\":\n",
    "    manager = HospitalManager()\n",
    "    print(\"\\nWelcome to the Hospital and Medical Facilities Expert System.\\n\")\n",
    "    print(\"Please rate the hospital and medical facilities on the following criteria (1-10):\\n\")\n",
    "    manager.evaluate()\n"
   ]
  },
  {
   "cell_type": "code",
   "execution_count": null,
   "id": "a8890e1d-9a80-46e1-88e2-d34b9d8d79fe",
   "metadata": {},
   "outputs": [],
   "source": [
    "class  StockMarketTrader:\n",
    "    def __init__(self):\n",
    "        self.questions = [\n",
    "            \"Is the trader knowledgeable about the stock market?\",\n",
    "            \"Does the trader conduct thorough research before making trades?\",\n",
    "            \"Does the trader have a well-defined trading strategy?\",\n",
    "            \"Is the trader disciplined and able to stick to the trading plan?\",\n",
    "            \"Is the trader able to manage risk effectively?\",\n",
    "            \"Is the trader able to adapt to changing market conditions?\",\n",
    "            \"Does the trader have a track record of successful trades?\"\n",
    "        ]\n",
    "        self.threshold = {\n",
    "            \"Excellent\": 8,\n",
    "            \"Good\": 6,\n",
    "            \"Fair\": 4,\n",
    "            \"Poor\": 0\n",
    "        }\n",
    "\n",
    "    def evaluate(self):\n",
    "        score = 0\n",
    "        for question in self.questions:\n",
    "            print(question + \" (1-10): \")\n",
    "            ans = int(input(\"> \"))\n",
    "            while ans < 1 or ans > 10:\n",
    "                print(\"Please enter a valid rating between 1 and 10.\")\n",
    "                ans = int(input(\"> \"))\n",
    "            score += ans\n",
    "        average_score = score / len(self.questions)\n",
    "\n",
    "        if average_score >= self.threshold[\"Excellent\"]:\n",
    "            print(\"Stock market trading performance is excellent!\")\n",
    "        elif average_score >= self.threshold[\"Good\"]:\n",
    "            print(\"Stock market trading performance is good.\")\n",
    "        elif average_score >= self.threshold[\"Fair\"]:\n",
    "            print(\"Stock market trading performance is fair, with areas for improvement.\")\n",
    "        else:\n",
    "            print(\"Stock market trading performance is poor. Action may be needed to address deficiencies.\")\n",
    "\n",
    "if __name__ == \"__main__\":\n",
    "    trader = StockMarketTrader()\n",
    "    print(\"\\nWelcome to the Stock Market Trading Expert System.\\n\")\n",
    "    print(\"Please rate the stock market trading on the following criteria (1-10):\\n\")\n",
    "    trader.evaluate()\n",
    "\n",
    "    "
   ]
  },
  {
   "cell_type": "code",
   "execution_count": null,
   "id": "f895978e-749b-47f3-afe1-a7139addcf22",
   "metadata": {},
   "outputs": [],
   "source": [
    "class AirlineSchedulingManager:\n",
    "    def __init__(self):\n",
    "        self.questions = [\n",
    "            \"Is the airline scheduling efficient and optimized?\",\n",
    "            \"Does the airline adhere to the flight schedule?\",\n",
    "            \"Is the airline able to handle disruptions and delays effectively?\",\n",
    "            \"Is the airline able to provide good customer service?\",\n",
    "            \"Is the cargo scheduling efficient and optimized?\",\n",
    "            \"Is the cargo handling process smooth and reliable?\",\n",
    "            \"Is the cargo delivery timely and secure?\"\n",
    "        ]\n",
    "        self.threshold = {\n",
    "            \"Excellent\": 8,\n",
    "            \"Good\": 6,\n",
    "            \"Fair\": 4,\n",
    "            \"Poor\": 0\n",
    "        }\n",
    "\n",
    "    def evaluate(self):\n",
    "        score = 0\n",
    "        for question in self.questions:\n",
    "            print(question + \" (1-10): \")\n",
    "            ans = int(input(\"> \"))\n",
    "            while ans < 1 or ans > 10:\n",
    "                print(\"Please enter a valid rating between 1 and 10.\")\n",
    "                ans = int(input(\"> \"))\n",
    "            score += ans\n",
    "        average_score = score / len(self.questions)\n",
    "\n",
    "        if average_score >= self.threshold[\"Excellent\"]:\n",
    "            print(\"Airline and cargo scheduling performance is excellent!\")\n",
    "        elif average_score >= self.threshold[\"Good\"]:\n",
    "            print(\"Airline and cargo scheduling performance is good.\")\n",
    "        elif average_score >= self.threshold[\"Fair\"]:\n",
    "            print(\"Airline and cargo scheduling performance is fair, with areas for improvement.\")\n",
    "        else:\n",
    "            print(\"Airline and cargo scheduling performance is poor. Action may be needed to address deficiencies.\")\n",
    "\n",
    "if __name__ == \"__main__\":\n",
    "    manager = AirlineSchedulingManager()\n",
    "    print(\"\\nWelcome to the Airline and Cargo Scheduling Expert System.\\n\")\n",
    "    print(\"Please rate the airline and cargo scheduling on the following criteria (1-10):\\n\")\n",
    "    manager.evaluate()\n"
   ]
  },
  {
   "cell_type": "code",
   "execution_count": null,
   "id": "31a66aa9-93ed-45d6-a398-3192e293003c",
   "metadata": {},
   "outputs": [],
   "source": []
  }
 ],
 "metadata": {
  "kernelspec": {
   "display_name": "Python 3 (ipykernel)",
   "language": "python",
   "name": "python3"
  },
  "language_info": {
   "codemirror_mode": {
    "name": "ipython",
    "version": 3
   },
   "file_extension": ".py",
   "mimetype": "text/x-python",
   "name": "python",
   "nbconvert_exporter": "python",
   "pygments_lexer": "ipython3",
   "version": "3.11.7"
  }
 },
 "nbformat": 4,
 "nbformat_minor": 5
}
